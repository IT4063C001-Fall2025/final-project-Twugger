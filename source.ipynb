{
 "cells": [
  {
   "attachments": {},
   "cell_type": "markdown",
   "metadata": {},
   "source": [
    "# Lifestyle Impacts on Mental Health📝\n",
    "\n",
    "![Banner](./assets/banner.jpeg)"
   ]
  },
  {
   "attachments": {},
   "cell_type": "markdown",
   "metadata": {},
   "source": [
    "## Topic\n",
    "*What problem are you (or your stakeholder) trying to address?*\n",
    "📝 <!-- Answer Below -->\n",
    "\n",
    "\n",
    "Mental health is a huge problem, and while everyone knows lifestyle choices have an effect, the advice is often super vague. The specific problem I'm addressing is the lack of clear, data-driven answers about which habits matter most."
   ]
  },
  {
   "attachments": {},
   "cell_type": "markdown",
   "metadata": {},
   "source": [
    "## Project Question\n",
    "*What specific question are you seeking to answer with this project?*\n",
    "*This is not the same as the questions you ask to limit the scope of the project.*\n",
    "📝 <!-- Answer Below -->\n",
    "\n",
    "How does diet, sleep, and other habits correlate with mental health?"
   ]
  },
  {
   "attachments": {},
   "cell_type": "markdown",
   "metadata": {},
   "source": [
    "## What would an answer look like?\n",
    "*What is your hypothesized answer to your question?*\n",
    "📝 <!-- Answer Below -->\n",
    "\n",
    "The answer would be that healthier habits correlate with better mental health. The real question would be by how much and what is most important. It would like eating x amount of fruits everyday would increase your mental health by x amount."
   ]
  },
  {
   "attachments": {},
   "cell_type": "markdown",
   "metadata": {},
   "source": [
    "## Data Sources\n",
    "*What 3 data sources have you identified for this project?*\n",
    "*How are you going to relate these datasets?*\n",
    "📝 <!-- Answer Below -->\n",
    "\n",
    "Student Mental Health - https://www.kaggle.com/datasets/shariful07/student-mental-health\n",
    "\n",
    "Mental Health Dataset - https://www.kaggle.com/datasets/bhavikjikadara/mental-health-dataset\n",
    "\n",
    "Mental Health & Music Relationship▴Analysis & EDA - https://www.kaggle.com/code/melissamonfared/mental-health-music-relationship-analysis-eda\n",
    " - This link has an excellent analysis on music and its relationship with mental health.\n",
    "\n",
    "\n",
    "These are all mental health datasets with a variety of factors and variables that I think would be interesting to compare. They are all very compreshensive and some look at specific lifestyle influences. They all have variables that can be methods for detecting changes in mental health. We can look how grades, music, and other habits effect mental health. We can use the mental health of students and see what age range is effected by what kinds of foods they eat for example. These datasets can mesh very well together with different variables."
   ]
  },
  {
   "attachments": {},
   "cell_type": "markdown",
   "metadata": {},
   "source": [
    "## Approach and Analysis\n",
    "*What is your approach to answering your project question?*\n",
    "*How will you use the identified data to answer your project question?*\n",
    "📝 <!-- Start Discussing the project here; you can add as many code cells as you need -->\n",
    "\n",
    "I think I would want to look at all the variables and factors and determine what I think would be influential. Unless, there is a certain method to see what directly correlates to mental health than I would want to answer the project question by testing all of the data. I would do this by first cleaning what I think is faulty data and then trying to create some visualizations on correlations. This data we can see through the visualizations or other metrics and see if it answers our question."
   ]
  },
  {
   "cell_type": "code",
   "execution_count": null,
   "metadata": {},
   "outputs": [],
   "source": [
    "# Start your code here"
   ]
  },
  {
   "attachments": {},
   "cell_type": "markdown",
   "metadata": {},
   "source": [
    "## Resources and References\n",
    "*What resources and references have you used for this project?*\n",
    "📝 <!-- Answer Below -->"
   ]
  },
  {
   "cell_type": "code",
   "execution_count": null,
   "metadata": {},
   "outputs": [
    {
     "name": "stdout",
     "output_type": "stream",
     "text": [
      "[NbConvertApp] Converting notebook source.ipynb to python\n",
      "[NbConvertApp] Writing 1271 bytes to source.py\n"
     ]
    }
   ],
   "source": [
    "# ⚠️ Make sure you run this cell at the end of your notebook before every submission!\n",
    "!jupyter nbconvert --to python source.ipynb"
   ]
  }
 ],
 "metadata": {
  "kernelspec": {
   "display_name": "Final-Project-Template-unx06iZ2",
   "language": "python",
   "name": "python3"
  },
  "language_info": {
   "codemirror_mode": {
    "name": "ipython",
    "version": 3
   },
   "file_extension": ".py",
   "mimetype": "text/x-python",
   "name": "python",
   "nbconvert_exporter": "python",
   "pygments_lexer": "ipython3",
   "version": "3.11.1"
  },
  "orig_nbformat": 4,
  "vscode": {
   "interpreter": {
    "hash": "8f59090b806211711d8ea6da25ee5b1ccb272a75a21b9536283520350d8dfda7"
   }
  }
 },
 "nbformat": 4,
 "nbformat_minor": 2
}
